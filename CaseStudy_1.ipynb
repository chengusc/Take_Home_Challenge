{
 "cells": [
  {
   "cell_type": "markdown",
   "id": "421cea41",
   "metadata": {},
   "source": [
    "## Data Analysis Interview Challenge"
   ]
  },
  {
   "cell_type": "markdown",
   "id": "168ba922",
   "metadata": {},
   "source": [
    "### Part 1 ‐ Exploratory data analysis"
   ]
  },
  {
   "cell_type": "markdown",
   "id": "f8bc8cc4",
   "metadata": {},
   "source": [
    "This exercise provides a dataset which contains (simulated) timestamps of user logins in a particular geographic location. It is required to find patterns in the dataset."
   ]
  },
  {
   "cell_type": "code",
   "execution_count": 90,
   "id": "5f0b5b22",
   "metadata": {},
   "outputs": [],
   "source": [
    "# Import modules\n",
    "import json\n",
    "import pandas as pd\n",
    "import numpy as np\n",
    "from datetime import datetime, timedelta\n",
    "from collections import defaultdict\n",
    "import matplotlib.pyplot as plt\n",
    "import seaborn as sns"
   ]
  },
  {
   "cell_type": "code",
   "execution_count": 91,
   "id": "5bd75b78",
   "metadata": {},
   "outputs": [],
   "source": [
    "# read JSON file and save as dataframe\n",
    "data_df = pd.read_json('logins.json')"
   ]
  },
  {
   "cell_type": "code",
   "execution_count": 92,
   "id": "0734fe76",
   "metadata": {},
   "outputs": [
    {
     "data": {
      "text/html": [
       "<div>\n",
       "<style scoped>\n",
       "    .dataframe tbody tr th:only-of-type {\n",
       "        vertical-align: middle;\n",
       "    }\n",
       "\n",
       "    .dataframe tbody tr th {\n",
       "        vertical-align: top;\n",
       "    }\n",
       "\n",
       "    .dataframe thead th {\n",
       "        text-align: right;\n",
       "    }\n",
       "</style>\n",
       "<table border=\"1\" class=\"dataframe\">\n",
       "  <thead>\n",
       "    <tr style=\"text-align: right;\">\n",
       "      <th></th>\n",
       "      <th>login_time</th>\n",
       "    </tr>\n",
       "  </thead>\n",
       "  <tbody>\n",
       "    <tr>\n",
       "      <th>0</th>\n",
       "      <td>1970-01-01 20:13:18</td>\n",
       "    </tr>\n",
       "    <tr>\n",
       "      <th>1</th>\n",
       "      <td>1970-01-01 20:16:10</td>\n",
       "    </tr>\n",
       "    <tr>\n",
       "      <th>2</th>\n",
       "      <td>1970-01-01 20:16:37</td>\n",
       "    </tr>\n",
       "    <tr>\n",
       "      <th>3</th>\n",
       "      <td>1970-01-01 20:16:36</td>\n",
       "    </tr>\n",
       "    <tr>\n",
       "      <th>4</th>\n",
       "      <td>1970-01-01 20:26:21</td>\n",
       "    </tr>\n",
       "  </tbody>\n",
       "</table>\n",
       "</div>"
      ],
      "text/plain": [
       "           login_time\n",
       "0 1970-01-01 20:13:18\n",
       "1 1970-01-01 20:16:10\n",
       "2 1970-01-01 20:16:37\n",
       "3 1970-01-01 20:16:36\n",
       "4 1970-01-01 20:26:21"
      ]
     },
     "execution_count": 92,
     "metadata": {},
     "output_type": "execute_result"
    }
   ],
   "source": [
    "# check first few rows\n",
    "data_df.head()"
   ]
  },
  {
   "cell_type": "code",
   "execution_count": 93,
   "id": "fc866785",
   "metadata": {},
   "outputs": [
    {
     "name": "stdout",
     "output_type": "stream",
     "text": [
      "<class 'pandas.core.frame.DataFrame'>\n",
      "RangeIndex: 93142 entries, 0 to 93141\n",
      "Data columns (total 1 columns):\n",
      " #   Column      Non-Null Count  Dtype         \n",
      "---  ------      --------------  -----         \n",
      " 0   login_time  93142 non-null  datetime64[ns]\n",
      "dtypes: datetime64[ns](1)\n",
      "memory usage: 727.8 KB\n"
     ]
    }
   ],
   "source": [
    "# check column data type\n",
    "data_df.info()"
   ]
  },
  {
   "cell_type": "markdown",
   "id": "26c8ae61",
   "metadata": {},
   "source": [
    "Column 'login_time' is object (categorical) type. Should be converted to datetime"
   ]
  },
  {
   "cell_type": "code",
   "execution_count": 94,
   "id": "55aafad1",
   "metadata": {},
   "outputs": [],
   "source": [
    "# change column 'login_time' to datetime\n",
    "data_df['login_time']= pd.to_datetime(data_df['login_time'])"
   ]
  },
  {
   "cell_type": "code",
   "execution_count": 95,
   "id": "27312140",
   "metadata": {},
   "outputs": [
    {
     "name": "stdout",
     "output_type": "stream",
     "text": [
      "<class 'pandas.core.frame.DataFrame'>\n",
      "RangeIndex: 93142 entries, 0 to 93141\n",
      "Data columns (total 1 columns):\n",
      " #   Column      Non-Null Count  Dtype         \n",
      "---  ------      --------------  -----         \n",
      " 0   login_time  93142 non-null  datetime64[ns]\n",
      "dtypes: datetime64[ns](1)\n",
      "memory usage: 727.8 KB\n"
     ]
    }
   ],
   "source": [
    "# check the new column type\n",
    "data_df.info()"
   ]
  },
  {
   "cell_type": "markdown",
   "id": "88129160",
   "metadata": {},
   "source": [
    "Column 'login_time' has been changed to datetime."
   ]
  },
  {
   "cell_type": "code",
   "execution_count": 96,
   "id": "8bf67f41",
   "metadata": {},
   "outputs": [
    {
     "data": {
      "text/plain": [
       "login_time    0\n",
       "dtype: int64"
      ]
     },
     "execution_count": 96,
     "metadata": {},
     "output_type": "execute_result"
    }
   ],
   "source": [
    "# check missing values\n",
    "data_df.isnull().sum()"
   ]
  },
  {
   "cell_type": "markdown",
   "id": "a00520b7",
   "metadata": {},
   "source": [
    "No missing values are found in the dataset."
   ]
  },
  {
   "cell_type": "code",
   "execution_count": 97,
   "id": "b05d41f8",
   "metadata": {
    "scrolled": true
   },
   "outputs": [],
   "source": [
    "# let's count the login time in quarter-hour.\n",
    "hour_count = defaultdict(int)\n",
    "for value in data_df['login_time']:\n",
    "    m = value.minute\n",
    "    h = value.hour\n",
    "    if m<=15: m_r = 0\n",
    "    elif m<=30: m_r = 1\n",
    "    elif m<=45: m_r = 2\n",
    "    else: m_r = 3 \n",
    "    i = h*4 + m_r\n",
    "    hour_count[i] += 1"
   ]
  },
  {
   "cell_type": "code",
   "execution_count": 98,
   "id": "b5b9c4dc",
   "metadata": {},
   "outputs": [],
   "source": [
    "# create a dataframe for the hour counting results. time_index represents the hour in a day.\n",
    "hour_count_df = pd.DataFrame(list(hour_count.items()), columns=['time_index', 'count'])"
   ]
  },
  {
   "cell_type": "code",
   "execution_count": 99,
   "id": "684e5d6c",
   "metadata": {},
   "outputs": [],
   "source": [
    "# sort the dataframe on the value of 'time_index'\n",
    "hour_count_df.sort_values('time_index', ascending=True, inplace=True)"
   ]
  },
  {
   "cell_type": "code",
   "execution_count": 100,
   "id": "0e92d329",
   "metadata": {
    "scrolled": true
   },
   "outputs": [],
   "source": [
    "# convert the 'time_index' to hour with decimals\n",
    "hour_count_df['hour'] = hour_count_df['time_index']*0.25"
   ]
  },
  {
   "cell_type": "code",
   "execution_count": 101,
   "id": "031fe125",
   "metadata": {},
   "outputs": [
    {
     "data": {
      "text/html": [
       "<div>\n",
       "<style scoped>\n",
       "    .dataframe tbody tr th:only-of-type {\n",
       "        vertical-align: middle;\n",
       "    }\n",
       "\n",
       "    .dataframe tbody tr th {\n",
       "        vertical-align: top;\n",
       "    }\n",
       "\n",
       "    .dataframe thead th {\n",
       "        text-align: right;\n",
       "    }\n",
       "</style>\n",
       "<table border=\"1\" class=\"dataframe\">\n",
       "  <thead>\n",
       "    <tr style=\"text-align: right;\">\n",
       "      <th></th>\n",
       "      <th>time_index</th>\n",
       "      <th>count</th>\n",
       "      <th>hour</th>\n",
       "    </tr>\n",
       "  </thead>\n",
       "  <tbody>\n",
       "    <tr>\n",
       "      <th>15</th>\n",
       "      <td>0</td>\n",
       "      <td>1547</td>\n",
       "      <td>0.00</td>\n",
       "    </tr>\n",
       "    <tr>\n",
       "      <th>16</th>\n",
       "      <td>1</td>\n",
       "      <td>1533</td>\n",
       "      <td>0.25</td>\n",
       "    </tr>\n",
       "    <tr>\n",
       "      <th>17</th>\n",
       "      <td>2</td>\n",
       "      <td>1508</td>\n",
       "      <td>0.50</td>\n",
       "    </tr>\n",
       "    <tr>\n",
       "      <th>18</th>\n",
       "      <td>3</td>\n",
       "      <td>1405</td>\n",
       "      <td>0.75</td>\n",
       "    </tr>\n",
       "    <tr>\n",
       "      <th>19</th>\n",
       "      <td>4</td>\n",
       "      <td>1662</td>\n",
       "      <td>1.00</td>\n",
       "    </tr>\n",
       "  </tbody>\n",
       "</table>\n",
       "</div>"
      ],
      "text/plain": [
       "    time_index  count  hour\n",
       "15           0   1547  0.00\n",
       "16           1   1533  0.25\n",
       "17           2   1508  0.50\n",
       "18           3   1405  0.75\n",
       "19           4   1662  1.00"
      ]
     },
     "execution_count": 101,
     "metadata": {},
     "output_type": "execute_result"
    }
   ],
   "source": [
    "hour_count_df.head()"
   ]
  },
  {
   "cell_type": "code",
   "execution_count": 102,
   "id": "40c406fa",
   "metadata": {},
   "outputs": [
    {
     "data": {
      "text/plain": [
       "Text(0, 0.5, 'Counts on login')"
      ]
     },
     "execution_count": 102,
     "metadata": {},
     "output_type": "execute_result"
    },
    {
     "data": {
      "image/png": "[encoded data removed]",
      "text/plain": [
       "<Figure size 432x288 with 1 Axes>"
      ]
     },
     "metadata": {
      "needs_background": "light"
     },
     "output_type": "display_data"
    }
   ],
   "source": [
    "# plot the count vs hour\n",
    "plt.plot(hour_count_df['hour'], hour_count_df['count'])\n",
    "plt.xlabel('Hour')\n",
    "plt.ylabel('Counts on login')"
   ]
  },
  {
   "cell_type": "markdown",
   "id": "5fd89080",
   "metadata": {},
   "source": [
    "#### The plot above shows the daily cycle very clearly. The least login was during 6-8 am, and the peak login was between 11am-1pm, and 10pm-3am. \n",
    "\n",
    "#### Let's then see the pattern in a weekly basis."
   ]
  },
  {
   "cell_type": "code",
   "execution_count": 103,
   "id": "c9e8f987",
   "metadata": {
    "scrolled": true
   },
   "outputs": [],
   "source": [
    "# count on week days\n",
    "weekday_count = defaultdict(int)\n",
    "for value in data_df['login_time']:\n",
    "    weekday_count[value.weekday()] += 1"
   ]
  },
  {
   "cell_type": "code",
   "execution_count": 104,
   "id": "43eb6c3e",
   "metadata": {},
   "outputs": [
    {
     "data": {
      "text/plain": [
       "defaultdict(int,\n",
       "            {3: 11960,\n",
       "             4: 15208,\n",
       "             5: 19377,\n",
       "             6: 18167,\n",
       "             0: 8823,\n",
       "             1: 9268,\n",
       "             2: 10339})"
      ]
     },
     "execution_count": 104,
     "metadata": {},
     "output_type": "execute_result"
    }
   ],
   "source": [
    "weekday_count"
   ]
  },
  {
   "cell_type": "code",
   "execution_count": 105,
   "id": "68db3ceb",
   "metadata": {},
   "outputs": [],
   "source": [
    "# create dataframe for the weekday count\n",
    "weekday_count_df = pd.DataFrame(list(weekday_count.items()), columns=['weekday_num', 'count'])"
   ]
  },
  {
   "cell_type": "code",
   "execution_count": 106,
   "id": "21138789",
   "metadata": {},
   "outputs": [],
   "source": [
    "# sort the dataframe\n",
    "weekday_count_df.sort_values('weekday_num', inplace=True)"
   ]
  },
  {
   "cell_type": "code",
   "execution_count": 107,
   "id": "6d5a8e88",
   "metadata": {},
   "outputs": [],
   "source": [
    "# convert the weekday number to week days. As predefined, 0 = Monday and 6 = Sunday \n",
    "weekday_count_df['weekday'] = ['Monday', 'Tuesday', 'Wednesday', 'Thursday', 'Friday', 'Saturday', 'Sunday']"
   ]
  },
  {
   "cell_type": "code",
   "execution_count": 108,
   "id": "e443f476",
   "metadata": {},
   "outputs": [
    {
     "data": {
      "text/html": [
       "<div>\n",
       "<style scoped>\n",
       "    .dataframe tbody tr th:only-of-type {\n",
       "        vertical-align: middle;\n",
       "    }\n",
       "\n",
       "    .dataframe tbody tr th {\n",
       "        vertical-align: top;\n",
       "    }\n",
       "\n",
       "    .dataframe thead th {\n",
       "        text-align: right;\n",
       "    }\n",
       "</style>\n",
       "<table border=\"1\" class=\"dataframe\">\n",
       "  <thead>\n",
       "    <tr style=\"text-align: right;\">\n",
       "      <th></th>\n",
       "      <th>weekday_num</th>\n",
       "      <th>count</th>\n",
       "      <th>weekday</th>\n",
       "    </tr>\n",
       "  </thead>\n",
       "  <tbody>\n",
       "    <tr>\n",
       "      <th>4</th>\n",
       "      <td>0</td>\n",
       "      <td>8823</td>\n",
       "      <td>Monday</td>\n",
       "    </tr>\n",
       "    <tr>\n",
       "      <th>5</th>\n",
       "      <td>1</td>\n",
       "      <td>9268</td>\n",
       "      <td>Tuesday</td>\n",
       "    </tr>\n",
       "    <tr>\n",
       "      <th>6</th>\n",
       "      <td>2</td>\n",
       "      <td>10339</td>\n",
       "      <td>Wednesday</td>\n",
       "    </tr>\n",
       "    <tr>\n",
       "      <th>0</th>\n",
       "      <td>3</td>\n",
       "      <td>11960</td>\n",
       "      <td>Thursday</td>\n",
       "    </tr>\n",
       "    <tr>\n",
       "      <th>1</th>\n",
       "      <td>4</td>\n",
       "      <td>15208</td>\n",
       "      <td>Friday</td>\n",
       "    </tr>\n",
       "    <tr>\n",
       "      <th>2</th>\n",
       "      <td>5</td>\n",
       "      <td>19377</td>\n",
       "      <td>Saturday</td>\n",
       "    </tr>\n",
       "    <tr>\n",
       "      <th>3</th>\n",
       "      <td>6</td>\n",
       "      <td>18167</td>\n",
       "      <td>Sunday</td>\n",
       "    </tr>\n",
       "  </tbody>\n",
       "</table>\n",
       "</div>"
      ],
      "text/plain": [
       "   weekday_num  count    weekday\n",
       "4            0   8823     Monday\n",
       "5            1   9268    Tuesday\n",
       "6            2  10339  Wednesday\n",
       "0            3  11960   Thursday\n",
       "1            4  15208     Friday\n",
       "2            5  19377   Saturday\n",
       "3            6  18167     Sunday"
      ]
     },
     "execution_count": 108,
     "metadata": {},
     "output_type": "execute_result"
    }
   ],
   "source": [
    "weekday_count_df"
   ]
  },
  {
   "cell_type": "code",
   "execution_count": 109,
   "id": "109a4c61",
   "metadata": {},
   "outputs": [
    {
     "data": {
      "text/plain": [
       "Text(0, 0.5, 'Counts on login')"
      ]
     },
     "execution_count": 109,
     "metadata": {},
     "output_type": "execute_result"
    },
    {
     "data": {
      "image/png": "[encoded data removed]",
      "text/plain": [
       "<Figure size 576x432 with 1 Axes>"
      ]
     },
     "metadata": {
      "needs_background": "light"
     },
     "output_type": "display_data"
    }
   ],
   "source": [
    "# plot the weekday login count\n",
    "plt.figure(figsize=(8,6))\n",
    "plt.bar(weekday_count_df['weekday'], weekday_count_df['count'])\n",
    "plt.ylabel('Counts on login')"
   ]
  },
  {
   "cell_type": "markdown",
   "id": "911f0873",
   "metadata": {},
   "source": [
    "#### The patten in a weekly cycle is that more logins happen on weekend than on week days. "
   ]
  },
  {
   "cell_type": "markdown",
   "id": "bf466fad",
   "metadata": {},
   "source": [
    "### Part 2 ‐  Experiment and metrics design"
   ]
  },
  {
   "cell_type": "markdown",
   "id": "fcd84225",
   "metadata": {},
   "source": [
    "*** From work instruction ***\n",
    "The neighboring cities of Gotham and Metropolis have complementary circadian rhythms: on weekdays, Ultimate Gotham is most active at night, and Ultimate Metropolis is most active during the day. On weekends, there is reasonable activity in both cities. However, a toll bridge, with a two way toll, between the two cities causes driver partners to tend to be exclusive to each city. The Ultimate managers of city operations for the two cities have proposed an experiment to encourage driver partners to be available in both cities, by reimbursing all toll costs.\n",
    "\n",
    "1) What would you choose as the key measure of success of this experiment in encouraging driver partners to serve both cities, and why would you choose this metric?"
   ]
  },
  {
   "cell_type": "markdown",
   "id": "3a3dfa14",
   "metadata": {},
   "source": [
    "#### A： The key measure of success should be the traffic flow. If reimbursing toll cost does encourage the driver partners to travel between the two cities, it is expected to see a traffic flow increase from Metropolis to Gotham at weekday nights, and from Gotham to Metropolis during daytime at week days. The reason is that if this method does increases travels, we should see clear traffic increase after starting to reimburse toll cost."
   ]
  },
  {
   "cell_type": "markdown",
   "id": "2c6e0585",
   "metadata": {},
   "source": [
    "2) Describe a practical experiment you would design to compare the effectiveness of the proposed change in relation to the key measure of success. Please provide details on:\n",
    "a) how you will implement the experiment\n",
    "b) what statistical test(s) you will conduct to verify the significance of the observation\n",
    "c) how you would interpret the results and provide recommendations to the city operations team along with any caveats."
   ]
  },
  {
   "cell_type": "markdown",
   "id": "e83d4868",
   "metadata": {},
   "source": [
    "#### A: \n",
    "a) how you will implement the experiment?\n",
    "A: There should be a few steps in the experiment:\n",
    "step 1: Count the daily traffic flow when there is the toll charged;\n",
    "step 2: Claim to the public that there will be no toll charged in a certain period of time, maybe two weeks or one month;\n",
    "step 3: Count the daily traffic flow when there is no toll charged;\n",
    "step 4: Do the hypothesis test to calculate the p value;\n",
    "step 5: Depending on the p value, claim the final result.\n",
    "\n",
    "b) what statistical test(s) you will conduct to verify the significance of the observation\n",
    "A: hypothesis test. Steps for this test should be:\n",
    "step 1: state the null hypothesis, which is that the reimbursing toll does not help to increase traffic volume;\n",
    "step 2: calculate the p value;\n",
    "step 3: If the p value is smaller than 0.05, we will reject the null hypothesis, which is that reimbursing toll does not help increase traffic. \n",
    "\n",
    "c) how you would interpret the results and provide recommendations to the city operations team along with any caveats.\n",
    "A: Explain to the city operation teams that the result from the experiment support or reject the effect of reimbursing toll. Based on the traffic amount with no toll reimbursing, you can also calculate the financial loss when the toll is not charged.  "
   ]
  },
  {
   "cell_type": "markdown",
   "id": "6349443e",
   "metadata": {},
   "source": [
    "### Part 3 ‐   Predictive modeling"
   ]
  },
  {
   "cell_type": "markdown",
   "id": "2c6dfe70",
   "metadata": {},
   "source": [
    "Ultimate is interested in predicting rider retention. To help explore this question, we have provided a sample dataset of a cohort of users who signed up for an Ultimate account in January 2014. The data was pulled several months later; we consider a user retained if they were “active” (i.e. took a trip) in the preceding 30 days.\n",
    "\n",
    "We would like you to use this data set to help understand what factors are the best predictors for retention, and offer suggestions to operationalize those insights to help Ultimate.\n",
    "\n",
    "The data is in the attached file ultimate_data_challenge.json. See below for a detailed description of the dataset. Please include any code you wrote for the analysis and delete the dataset when you have finished with the challenge."
   ]
  },
  {
   "cell_type": "markdown",
   "id": "2d71cbf3",
   "metadata": {},
   "source": [
    "#### 1. Perform any cleaning, exploratory analysis, and/or visualizations to use the provided data for this analysis (a few sentences/plots describing your approach will suffice). What fraction of the observed users were retained?"
   ]
  },
  {
   "cell_type": "markdown",
   "id": "7b5f796f",
   "metadata": {},
   "source": [
    "Let's first read the data as dataframe."
   ]
  },
  {
   "cell_type": "code",
   "execution_count": 110,
   "id": "7372a8fa",
   "metadata": {},
   "outputs": [],
   "source": [
    "# Read JSON file\n",
    "df = pd.read_json('ultimate_data_challenge.json')"
   ]
  },
  {
   "cell_type": "code",
   "execution_count": 111,
   "id": "6ce7b6c8",
   "metadata": {},
   "outputs": [
    {
     "data": {
      "text/html": [
       "<div>\n",
       "<style scoped>\n",
       "    .dataframe tbody tr th:only-of-type {\n",
       "        vertical-align: middle;\n",
       "    }\n",
       "\n",
       "    .dataframe tbody tr th {\n",
       "        vertical-align: top;\n",
       "    }\n",
       "\n",
       "    .dataframe thead th {\n",
       "        text-align: right;\n",
       "    }\n",
       "</style>\n",
       "<table border=\"1\" class=\"dataframe\">\n",
       "  <thead>\n",
       "    <tr style=\"text-align: right;\">\n",
       "      <th></th>\n",
       "      <th>city</th>\n",
       "      <th>trips_in_first_30_days</th>\n",
       "      <th>signup_date</th>\n",
       "      <th>avg_rating_of_driver</th>\n",
       "      <th>avg_surge</th>\n",
       "      <th>last_trip_date</th>\n",
       "      <th>phone</th>\n",
       "      <th>surge_pct</th>\n",
       "      <th>ultimate_black_user</th>\n",
       "      <th>weekday_pct</th>\n",
       "      <th>avg_dist</th>\n",
       "      <th>avg_rating_by_driver</th>\n",
       "    </tr>\n",
       "  </thead>\n",
       "  <tbody>\n",
       "    <tr>\n",
       "      <th>0</th>\n",
       "      <td>King's Landing</td>\n",
       "      <td>4</td>\n",
       "      <td>2014-01-25</td>\n",
       "      <td>4.7</td>\n",
       "      <td>1.10</td>\n",
       "      <td>2014-06-17</td>\n",
       "      <td>iPhone</td>\n",
       "      <td>15.4</td>\n",
       "      <td>True</td>\n",
       "      <td>46.2</td>\n",
       "      <td>3.67</td>\n",
       "      <td>5.0</td>\n",
       "    </tr>\n",
       "    <tr>\n",
       "      <th>1</th>\n",
       "      <td>Astapor</td>\n",
       "      <td>0</td>\n",
       "      <td>2014-01-29</td>\n",
       "      <td>5.0</td>\n",
       "      <td>1.00</td>\n",
       "      <td>2014-05-05</td>\n",
       "      <td>Android</td>\n",
       "      <td>0.0</td>\n",
       "      <td>False</td>\n",
       "      <td>50.0</td>\n",
       "      <td>8.26</td>\n",
       "      <td>5.0</td>\n",
       "    </tr>\n",
       "    <tr>\n",
       "      <th>2</th>\n",
       "      <td>Astapor</td>\n",
       "      <td>3</td>\n",
       "      <td>2014-01-06</td>\n",
       "      <td>4.3</td>\n",
       "      <td>1.00</td>\n",
       "      <td>2014-01-07</td>\n",
       "      <td>iPhone</td>\n",
       "      <td>0.0</td>\n",
       "      <td>False</td>\n",
       "      <td>100.0</td>\n",
       "      <td>0.77</td>\n",
       "      <td>5.0</td>\n",
       "    </tr>\n",
       "    <tr>\n",
       "      <th>3</th>\n",
       "      <td>King's Landing</td>\n",
       "      <td>9</td>\n",
       "      <td>2014-01-10</td>\n",
       "      <td>4.6</td>\n",
       "      <td>1.14</td>\n",
       "      <td>2014-06-29</td>\n",
       "      <td>iPhone</td>\n",
       "      <td>20.0</td>\n",
       "      <td>True</td>\n",
       "      <td>80.0</td>\n",
       "      <td>2.36</td>\n",
       "      <td>4.9</td>\n",
       "    </tr>\n",
       "    <tr>\n",
       "      <th>4</th>\n",
       "      <td>Winterfell</td>\n",
       "      <td>14</td>\n",
       "      <td>2014-01-27</td>\n",
       "      <td>4.4</td>\n",
       "      <td>1.19</td>\n",
       "      <td>2014-03-15</td>\n",
       "      <td>Android</td>\n",
       "      <td>11.8</td>\n",
       "      <td>False</td>\n",
       "      <td>82.4</td>\n",
       "      <td>3.13</td>\n",
       "      <td>4.9</td>\n",
       "    </tr>\n",
       "  </tbody>\n",
       "</table>\n",
       "</div>"
      ],
      "text/plain": [
       "             city  trips_in_first_30_days signup_date  avg_rating_of_driver  \\\n",
       "0  King's Landing                       4  2014-01-25                   4.7   \n",
       "1         Astapor                       0  2014-01-29                   5.0   \n",
       "2         Astapor                       3  2014-01-06                   4.3   \n",
       "3  King's Landing                       9  2014-01-10                   4.6   \n",
       "4      Winterfell                      14  2014-01-27                   4.4   \n",
       "\n",
       "   avg_surge last_trip_date    phone  surge_pct  ultimate_black_user  \\\n",
       "0       1.10     2014-06-17   iPhone       15.4                 True   \n",
       "1       1.00     2014-05-05  Android        0.0                False   \n",
       "2       1.00     2014-01-07   iPhone        0.0                False   \n",
       "3       1.14     2014-06-29   iPhone       20.0                 True   \n",
       "4       1.19     2014-03-15  Android       11.8                False   \n",
       "\n",
       "   weekday_pct  avg_dist  avg_rating_by_driver  \n",
       "0         46.2      3.67                   5.0  \n",
       "1         50.0      8.26                   5.0  \n",
       "2        100.0      0.77                   5.0  \n",
       "3         80.0      2.36                   4.9  \n",
       "4         82.4      3.13                   4.9  "
      ]
     },
     "execution_count": 111,
     "metadata": {},
     "output_type": "execute_result"
    }
   ],
   "source": [
    "# check first few rows\n",
    "df.head()"
   ]
  },
  {
   "cell_type": "code",
   "execution_count": 112,
   "id": "e2084ae2",
   "metadata": {},
   "outputs": [
    {
     "data": {
      "text/plain": [
       "city                         0\n",
       "trips_in_first_30_days       0\n",
       "signup_date                  0\n",
       "avg_rating_of_driver      8122\n",
       "avg_surge                    0\n",
       "last_trip_date               0\n",
       "phone                      396\n",
       "surge_pct                    0\n",
       "ultimate_black_user          0\n",
       "weekday_pct                  0\n",
       "avg_dist                     0\n",
       "avg_rating_by_driver       201\n",
       "dtype: int64"
      ]
     },
     "execution_count": 112,
     "metadata": {},
     "output_type": "execute_result"
    }
   ],
   "source": [
    "# check missing values\n",
    "df.isna().sum()"
   ]
  },
  {
   "cell_type": "markdown",
   "id": "7dea481b",
   "metadata": {},
   "source": [
    "Column 'avg_rating_of_driver', 'phone', and 'avg_rating_by_driver' have missing values. Since there are many missing values in 'avg_rating_of_driver', we will fill it with mean value. For 'phone' and 'avg_rating_by_driver', since missing values are just a small amount, we will just drop rows with missing values."
   ]
  },
  {
   "cell_type": "code",
   "execution_count": 113,
   "id": "651499b4",
   "metadata": {},
   "outputs": [
    {
     "data": {
      "text/plain": [
       "count    41878.000000\n",
       "mean         4.601559\n",
       "std          0.617338\n",
       "min          1.000000\n",
       "25%          4.300000\n",
       "50%          4.900000\n",
       "75%          5.000000\n",
       "max          5.000000\n",
       "Name: avg_rating_of_driver, dtype: float64"
      ]
     },
     "execution_count": 113,
     "metadata": {},
     "output_type": "execute_result"
    }
   ],
   "source": [
    "# check features of column \"avg_rating_of_driver\"\n",
    "df['avg_rating_of_driver'].describe()"
   ]
  },
  {
   "cell_type": "markdown",
   "id": "daa008bc",
   "metadata": {},
   "source": [
    "the minimum value of column 'avg_rating_of_driver' is 1.0 and the max is 5.0. So it is safe to fill missing value with mean. If there are quite a few outliners, we will fill with median to avoid bias. We can also see that the mean value is 4.6. We will use this value to fill in missing values."
   ]
  },
  {
   "cell_type": "code",
   "execution_count": 114,
   "id": "3e979f92",
   "metadata": {},
   "outputs": [],
   "source": [
    "# fill missing values with mean\n",
    "df['avg_rating_of_driver'] = df['avg_rating_of_driver'].fillna(4.6)"
   ]
  },
  {
   "cell_type": "code",
   "execution_count": 115,
   "id": "c87574b9",
   "metadata": {},
   "outputs": [],
   "source": [
    "# drop missing values\n",
    "df = df.dropna()"
   ]
  },
  {
   "cell_type": "code",
   "execution_count": 116,
   "id": "2d3d00a4",
   "metadata": {},
   "outputs": [
    {
     "data": {
      "text/plain": [
       "city                      0\n",
       "trips_in_first_30_days    0\n",
       "signup_date               0\n",
       "avg_rating_of_driver      0\n",
       "avg_surge                 0\n",
       "last_trip_date            0\n",
       "phone                     0\n",
       "surge_pct                 0\n",
       "ultimate_black_user       0\n",
       "weekday_pct               0\n",
       "avg_dist                  0\n",
       "avg_rating_by_driver      0\n",
       "dtype: int64"
      ]
     },
     "execution_count": 116,
     "metadata": {},
     "output_type": "execute_result"
    }
   ],
   "source": [
    "# check if there is still missing values\n",
    "df.isna().sum()"
   ]
  },
  {
   "cell_type": "code",
   "execution_count": 117,
   "id": "9c039550",
   "metadata": {},
   "outputs": [
    {
     "data": {
      "text/plain": [
       "(49406, 12)"
      ]
     },
     "execution_count": 117,
     "metadata": {},
     "output_type": "execute_result"
    }
   ],
   "source": [
    "# check the new data size\n",
    "df.shape"
   ]
  },
  {
   "cell_type": "markdown",
   "id": "6cc43b7e",
   "metadata": {},
   "source": [
    "Let's then plot histogram on numerical columns in the data frame."
   ]
  },
  {
   "cell_type": "code",
   "execution_count": 118,
   "id": "d996b9b3",
   "metadata": {},
   "outputs": [],
   "source": [
    "def histplots(columns, ncol=None, figsize=(19, 20)):\n",
    "    if ncol is None:\n",
    "        ncol = len(columns)\n",
    "    nrow = int(np.ceil(len(columns) / ncol))\n",
    "    fig, axes = plt.subplots(nrow, ncol, figsize=figsize, squeeze=False)\n",
    "    fig.subplots_adjust(wspace=0.4, hspace=0.3)\n",
    "    for i, col in enumerate(columns):\n",
    "        ax = axes.flatten()[i]\n",
    "        ax.hist(df[col])\n",
    "        ax.set(xlabel=col, ylabel='count')\n",
    "    nsubplots = nrow * ncol    \n",
    "    for empty in range(i+1, nsubplots):\n",
    "        axes.flatten()[empty].set_visible(False)"
   ]
  },
  {
   "cell_type": "code",
   "execution_count": 119,
   "id": "d01df033",
   "metadata": {},
   "outputs": [],
   "source": [
    "columns_numerical = df.select_dtypes(['float','int64']).columns"
   ]
  },
  {
   "cell_type": "code",
   "execution_count": 120,
   "id": "6704cfc8",
   "metadata": {},
   "outputs": [
    {
     "data": {
      "text/plain": [
       "Index(['trips_in_first_30_days', 'avg_rating_of_driver', 'avg_surge',\n",
       "       'surge_pct', 'weekday_pct', 'avg_dist', 'avg_rating_by_driver'],\n",
       "      dtype='object')"
      ]
     },
     "execution_count": 120,
     "metadata": {},
     "output_type": "execute_result"
    }
   ],
   "source": [
    "columns_numerical"
   ]
  },
  {
   "cell_type": "code",
   "execution_count": 121,
   "id": "38eb7a6e",
   "metadata": {},
   "outputs": [
    {
     "data": {
      "image/png": "[encoded data removed]",
      "text/plain": [
       "<Figure size 1296x576 with 8 Axes>"
      ]
     },
     "metadata": {
      "needs_background": "light"
     },
     "output_type": "display_data"
    }
   ],
   "source": [
    "histplots(columns_numerical, 4, (18,8))"
   ]
  },
  {
   "cell_type": "markdown",
   "id": "3de98e4d",
   "metadata": {},
   "source": [
    "They all looks fine so we will leave them there."
   ]
  },
  {
   "cell_type": "markdown",
   "id": "af7538cb",
   "metadata": {},
   "source": [
    "Let's check the column type."
   ]
  },
  {
   "cell_type": "code",
   "execution_count": 122,
   "id": "54f6a3df",
   "metadata": {},
   "outputs": [
    {
     "name": "stdout",
     "output_type": "stream",
     "text": [
      "<class 'pandas.core.frame.DataFrame'>\n",
      "Int64Index: 49406 entries, 0 to 49999\n",
      "Data columns (total 12 columns):\n",
      " #   Column                  Non-Null Count  Dtype  \n",
      "---  ------                  --------------  -----  \n",
      " 0   city                    49406 non-null  object \n",
      " 1   trips_in_first_30_days  49406 non-null  int64  \n",
      " 2   signup_date             49406 non-null  object \n",
      " 3   avg_rating_of_driver    49406 non-null  float64\n",
      " 4   avg_surge               49406 non-null  float64\n",
      " 5   last_trip_date          49406 non-null  object \n",
      " 6   phone                   49406 non-null  object \n",
      " 7   surge_pct               49406 non-null  float64\n",
      " 8   ultimate_black_user     49406 non-null  bool   \n",
      " 9   weekday_pct             49406 non-null  float64\n",
      " 10  avg_dist                49406 non-null  float64\n",
      " 11  avg_rating_by_driver    49406 non-null  float64\n",
      "dtypes: bool(1), float64(6), int64(1), object(4)\n",
      "memory usage: 4.6+ MB\n"
     ]
    }
   ],
   "source": [
    "# check the column type\n",
    "df.info()"
   ]
  },
  {
   "cell_type": "markdown",
   "id": "0761b3c0",
   "metadata": {},
   "source": [
    "We can see that the types of column \"signup_date\" and \"last_trip_date\" are all \"object\", which means categorical. So let's change it to datetime."
   ]
  },
  {
   "cell_type": "code",
   "execution_count": 123,
   "id": "9f3135fa",
   "metadata": {},
   "outputs": [],
   "source": [
    "# change 'signup_date' to datetime\n",
    "df['signup_date']= pd.to_datetime(df['signup_date'])"
   ]
  },
  {
   "cell_type": "code",
   "execution_count": 124,
   "id": "8f31edc9",
   "metadata": {},
   "outputs": [],
   "source": [
    "# change 'last_trip_date' to datetime\n",
    "df['last_trip_date']= pd.to_datetime(df['last_trip_date'])"
   ]
  },
  {
   "cell_type": "code",
   "execution_count": 125,
   "id": "2e6293f6",
   "metadata": {},
   "outputs": [
    {
     "name": "stdout",
     "output_type": "stream",
     "text": [
      "<class 'pandas.core.frame.DataFrame'>\n",
      "Int64Index: 49406 entries, 0 to 49999\n",
      "Data columns (total 12 columns):\n",
      " #   Column                  Non-Null Count  Dtype         \n",
      "---  ------                  --------------  -----         \n",
      " 0   city                    49406 non-null  object        \n",
      " 1   trips_in_first_30_days  49406 non-null  int64         \n",
      " 2   signup_date             49406 non-null  datetime64[ns]\n",
      " 3   avg_rating_of_driver    49406 non-null  float64       \n",
      " 4   avg_surge               49406 non-null  float64       \n",
      " 5   last_trip_date          49406 non-null  datetime64[ns]\n",
      " 6   phone                   49406 non-null  object        \n",
      " 7   surge_pct               49406 non-null  float64       \n",
      " 8   ultimate_black_user     49406 non-null  bool          \n",
      " 9   weekday_pct             49406 non-null  float64       \n",
      " 10  avg_dist                49406 non-null  float64       \n",
      " 11  avg_rating_by_driver    49406 non-null  float64       \n",
      "dtypes: bool(1), datetime64[ns](2), float64(6), int64(1), object(2)\n",
      "memory usage: 4.6+ MB\n"
     ]
    }
   ],
   "source": [
    "# check the new column type\n",
    "df.info()"
   ]
  },
  {
   "cell_type": "markdown",
   "id": "f4a802e6",
   "metadata": {},
   "source": [
    "Next, we would like to check if a user is retained or not. The criteria is that if the last trip date is within 30 days from now. \n",
    "\n",
    "Let's first \"assume\" what the current date is. We will just assume that it is the latest day in the column \"last_trip_date\"."
   ]
  },
  {
   "cell_type": "code",
   "execution_count": 126,
   "id": "d7a3e766",
   "metadata": {},
   "outputs": [],
   "source": [
    "# Find current date\n",
    "current_date = df['last_trip_date'].max()"
   ]
  },
  {
   "cell_type": "code",
   "execution_count": 127,
   "id": "74b082c6",
   "metadata": {},
   "outputs": [
    {
     "data": {
      "text/plain": [
       "Timestamp('2014-07-01 00:00:00')"
      ]
     },
     "execution_count": 127,
     "metadata": {},
     "output_type": "execute_result"
    }
   ],
   "source": [
    "# print current date\n",
    "current_date"
   ]
  },
  {
   "cell_type": "code",
   "execution_count": 128,
   "id": "27d9c3fc",
   "metadata": {},
   "outputs": [],
   "source": [
    "# define a new column \"retained\", whose value is true if the last trip date is within 30 days\n",
    "df['retained'] = (current_date - df['last_trip_date']) < timedelta(days=30)"
   ]
  },
  {
   "cell_type": "code",
   "execution_count": 129,
   "id": "9213d0e4",
   "metadata": {},
   "outputs": [
    {
     "data": {
      "text/plain": [
       "18146"
      ]
     },
     "execution_count": 129,
     "metadata": {},
     "output_type": "execute_result"
    }
   ],
   "source": [
    "# count the sum of retained users\n",
    "sum(df['retained'])"
   ]
  },
  {
   "cell_type": "code",
   "execution_count": 130,
   "id": "49070389",
   "metadata": {},
   "outputs": [],
   "source": [
    "retained_ratio = sum(df['retained'])/df.shape[0]"
   ]
  },
  {
   "cell_type": "code",
   "execution_count": 131,
   "id": "1472d7ab",
   "metadata": {},
   "outputs": [
    {
     "data": {
      "text/plain": [
       "0.36728332591183255"
      ]
     },
     "execution_count": 131,
     "metadata": {},
     "output_type": "execute_result"
    }
   ],
   "source": [
    "retained_ratio"
   ]
  },
  {
   "cell_type": "markdown",
   "id": "9905b132",
   "metadata": {},
   "source": [
    "We can see the retained ratio is about 36.7%."
   ]
  },
  {
   "cell_type": "markdown",
   "id": "e8ef48f2",
   "metadata": {},
   "source": [
    "#### 2. Build a predictive model to help Ultimate determine whether or not a user will be active in their 6th month on the system. Discuss why you chose your approach, what alternatives you considered, and any concerns you have. How valid is your model? Include any key indicators of model performance."
   ]
  },
  {
   "cell_type": "markdown",
   "id": "dfe68b56",
   "metadata": {},
   "source": [
    "This should be a problem of classification. According to my experience, Random Forest is a good model for classification prediction."
   ]
  },
  {
   "cell_type": "markdown",
   "id": "b71ceca3",
   "metadata": {},
   "source": [
    "First we need to create the target column, which is \"activate_in_6th_month\"."
   ]
  },
  {
   "cell_type": "code",
   "execution_count": 132,
   "id": "9d8118a3",
   "metadata": {},
   "outputs": [],
   "source": [
    "df['active_in_6th_month'] = (df['last_trip_date']-df['signup_date'])>timedelta(days=150)"
   ]
  },
  {
   "cell_type": "code",
   "execution_count": 133,
   "id": "fbaa6151",
   "metadata": {},
   "outputs": [
    {
     "data": {
      "text/html": [
       "<div>\n",
       "<style scoped>\n",
       "    .dataframe tbody tr th:only-of-type {\n",
       "        vertical-align: middle;\n",
       "    }\n",
       "\n",
       "    .dataframe tbody tr th {\n",
       "        vertical-align: top;\n",
       "    }\n",
       "\n",
       "    .dataframe thead th {\n",
       "        text-align: right;\n",
       "    }\n",
       "</style>\n",
       "<table border=\"1\" class=\"dataframe\">\n",
       "  <thead>\n",
       "    <tr style=\"text-align: right;\">\n",
       "      <th></th>\n",
       "      <th>city</th>\n",
       "      <th>trips_in_first_30_days</th>\n",
       "      <th>signup_date</th>\n",
       "      <th>avg_rating_of_driver</th>\n",
       "      <th>avg_surge</th>\n",
       "      <th>last_trip_date</th>\n",
       "      <th>phone</th>\n",
       "      <th>surge_pct</th>\n",
       "      <th>ultimate_black_user</th>\n",
       "      <th>weekday_pct</th>\n",
       "      <th>avg_dist</th>\n",
       "      <th>avg_rating_by_driver</th>\n",
       "      <th>retained</th>\n",
       "      <th>active_in_6th_month</th>\n",
       "    </tr>\n",
       "  </thead>\n",
       "  <tbody>\n",
       "    <tr>\n",
       "      <th>0</th>\n",
       "      <td>King's Landing</td>\n",
       "      <td>4</td>\n",
       "      <td>2014-01-25</td>\n",
       "      <td>4.7</td>\n",
       "      <td>1.10</td>\n",
       "      <td>2014-06-17</td>\n",
       "      <td>iPhone</td>\n",
       "      <td>15.4</td>\n",
       "      <td>True</td>\n",
       "      <td>46.2</td>\n",
       "      <td>3.67</td>\n",
       "      <td>5.0</td>\n",
       "      <td>True</td>\n",
       "      <td>False</td>\n",
       "    </tr>\n",
       "    <tr>\n",
       "      <th>1</th>\n",
       "      <td>Astapor</td>\n",
       "      <td>0</td>\n",
       "      <td>2014-01-29</td>\n",
       "      <td>5.0</td>\n",
       "      <td>1.00</td>\n",
       "      <td>2014-05-05</td>\n",
       "      <td>Android</td>\n",
       "      <td>0.0</td>\n",
       "      <td>False</td>\n",
       "      <td>50.0</td>\n",
       "      <td>8.26</td>\n",
       "      <td>5.0</td>\n",
       "      <td>False</td>\n",
       "      <td>False</td>\n",
       "    </tr>\n",
       "    <tr>\n",
       "      <th>2</th>\n",
       "      <td>Astapor</td>\n",
       "      <td>3</td>\n",
       "      <td>2014-01-06</td>\n",
       "      <td>4.3</td>\n",
       "      <td>1.00</td>\n",
       "      <td>2014-01-07</td>\n",
       "      <td>iPhone</td>\n",
       "      <td>0.0</td>\n",
       "      <td>False</td>\n",
       "      <td>100.0</td>\n",
       "      <td>0.77</td>\n",
       "      <td>5.0</td>\n",
       "      <td>False</td>\n",
       "      <td>False</td>\n",
       "    </tr>\n",
       "    <tr>\n",
       "      <th>3</th>\n",
       "      <td>King's Landing</td>\n",
       "      <td>9</td>\n",
       "      <td>2014-01-10</td>\n",
       "      <td>4.6</td>\n",
       "      <td>1.14</td>\n",
       "      <td>2014-06-29</td>\n",
       "      <td>iPhone</td>\n",
       "      <td>20.0</td>\n",
       "      <td>True</td>\n",
       "      <td>80.0</td>\n",
       "      <td>2.36</td>\n",
       "      <td>4.9</td>\n",
       "      <td>True</td>\n",
       "      <td>True</td>\n",
       "    </tr>\n",
       "    <tr>\n",
       "      <th>4</th>\n",
       "      <td>Winterfell</td>\n",
       "      <td>14</td>\n",
       "      <td>2014-01-27</td>\n",
       "      <td>4.4</td>\n",
       "      <td>1.19</td>\n",
       "      <td>2014-03-15</td>\n",
       "      <td>Android</td>\n",
       "      <td>11.8</td>\n",
       "      <td>False</td>\n",
       "      <td>82.4</td>\n",
       "      <td>3.13</td>\n",
       "      <td>4.9</td>\n",
       "      <td>False</td>\n",
       "      <td>False</td>\n",
       "    </tr>\n",
       "  </tbody>\n",
       "</table>\n",
       "</div>"
      ],
      "text/plain": [
       "             city  trips_in_first_30_days signup_date  avg_rating_of_driver  \\\n",
       "0  King's Landing                       4  2014-01-25                   4.7   \n",
       "1         Astapor                       0  2014-01-29                   5.0   \n",
       "2         Astapor                       3  2014-01-06                   4.3   \n",
       "3  King's Landing                       9  2014-01-10                   4.6   \n",
       "4      Winterfell                      14  2014-01-27                   4.4   \n",
       "\n",
       "   avg_surge last_trip_date    phone  surge_pct  ultimate_black_user  \\\n",
       "0       1.10     2014-06-17   iPhone       15.4                 True   \n",
       "1       1.00     2014-05-05  Android        0.0                False   \n",
       "2       1.00     2014-01-07   iPhone        0.0                False   \n",
       "3       1.14     2014-06-29   iPhone       20.0                 True   \n",
       "4       1.19     2014-03-15  Android       11.8                False   \n",
       "\n",
       "   weekday_pct  avg_dist  avg_rating_by_driver  retained  active_in_6th_month  \n",
       "0         46.2      3.67                   5.0      True                False  \n",
       "1         50.0      8.26                   5.0     False                False  \n",
       "2        100.0      0.77                   5.0     False                False  \n",
       "3         80.0      2.36                   4.9      True                 True  \n",
       "4         82.4      3.13                   4.9     False                False  "
      ]
     },
     "execution_count": 133,
     "metadata": {},
     "output_type": "execute_result"
    }
   ],
   "source": [
    "df.head()"
   ]
  },
  {
   "cell_type": "code",
   "execution_count": 167,
   "id": "83ef0bb3",
   "metadata": {},
   "outputs": [],
   "source": [
    "# create predictor and target variable. we already calculate the time interval so column 'signup_date' \n",
    "# and 'last_trip_date' are not needed.\n",
    "y = df['active_in_6th_month']\n",
    "X = df.drop(columns=['signup_date', 'last_trip_date','active_in_6th_month'])"
   ]
  },
  {
   "cell_type": "code",
   "execution_count": 135,
   "id": "2b576b0a",
   "metadata": {},
   "outputs": [
    {
     "data": {
      "text/html": [
       "<div>\n",
       "<style scoped>\n",
       "    .dataframe tbody tr th:only-of-type {\n",
       "        vertical-align: middle;\n",
       "    }\n",
       "\n",
       "    .dataframe tbody tr th {\n",
       "        vertical-align: top;\n",
       "    }\n",
       "\n",
       "    .dataframe thead th {\n",
       "        text-align: right;\n",
       "    }\n",
       "</style>\n",
       "<table border=\"1\" class=\"dataframe\">\n",
       "  <thead>\n",
       "    <tr style=\"text-align: right;\">\n",
       "      <th></th>\n",
       "      <th>city</th>\n",
       "      <th>trips_in_first_30_days</th>\n",
       "      <th>avg_rating_of_driver</th>\n",
       "      <th>avg_surge</th>\n",
       "      <th>phone</th>\n",
       "      <th>surge_pct</th>\n",
       "      <th>ultimate_black_user</th>\n",
       "      <th>weekday_pct</th>\n",
       "      <th>avg_dist</th>\n",
       "      <th>avg_rating_by_driver</th>\n",
       "      <th>retained</th>\n",
       "    </tr>\n",
       "  </thead>\n",
       "  <tbody>\n",
       "    <tr>\n",
       "      <th>0</th>\n",
       "      <td>King's Landing</td>\n",
       "      <td>4</td>\n",
       "      <td>4.7</td>\n",
       "      <td>1.10</td>\n",
       "      <td>iPhone</td>\n",
       "      <td>15.4</td>\n",
       "      <td>True</td>\n",
       "      <td>46.2</td>\n",
       "      <td>3.67</td>\n",
       "      <td>5.0</td>\n",
       "      <td>True</td>\n",
       "    </tr>\n",
       "    <tr>\n",
       "      <th>1</th>\n",
       "      <td>Astapor</td>\n",
       "      <td>0</td>\n",
       "      <td>5.0</td>\n",
       "      <td>1.00</td>\n",
       "      <td>Android</td>\n",
       "      <td>0.0</td>\n",
       "      <td>False</td>\n",
       "      <td>50.0</td>\n",
       "      <td>8.26</td>\n",
       "      <td>5.0</td>\n",
       "      <td>False</td>\n",
       "    </tr>\n",
       "    <tr>\n",
       "      <th>2</th>\n",
       "      <td>Astapor</td>\n",
       "      <td>3</td>\n",
       "      <td>4.3</td>\n",
       "      <td>1.00</td>\n",
       "      <td>iPhone</td>\n",
       "      <td>0.0</td>\n",
       "      <td>False</td>\n",
       "      <td>100.0</td>\n",
       "      <td>0.77</td>\n",
       "      <td>5.0</td>\n",
       "      <td>False</td>\n",
       "    </tr>\n",
       "    <tr>\n",
       "      <th>3</th>\n",
       "      <td>King's Landing</td>\n",
       "      <td>9</td>\n",
       "      <td>4.6</td>\n",
       "      <td>1.14</td>\n",
       "      <td>iPhone</td>\n",
       "      <td>20.0</td>\n",
       "      <td>True</td>\n",
       "      <td>80.0</td>\n",
       "      <td>2.36</td>\n",
       "      <td>4.9</td>\n",
       "      <td>True</td>\n",
       "    </tr>\n",
       "    <tr>\n",
       "      <th>4</th>\n",
       "      <td>Winterfell</td>\n",
       "      <td>14</td>\n",
       "      <td>4.4</td>\n",
       "      <td>1.19</td>\n",
       "      <td>Android</td>\n",
       "      <td>11.8</td>\n",
       "      <td>False</td>\n",
       "      <td>82.4</td>\n",
       "      <td>3.13</td>\n",
       "      <td>4.9</td>\n",
       "      <td>False</td>\n",
       "    </tr>\n",
       "  </tbody>\n",
       "</table>\n",
       "</div>"
      ],
      "text/plain": [
       "             city  trips_in_first_30_days  avg_rating_of_driver  avg_surge  \\\n",
       "0  King's Landing                       4                   4.7       1.10   \n",
       "1         Astapor                       0                   5.0       1.00   \n",
       "2         Astapor                       3                   4.3       1.00   \n",
       "3  King's Landing                       9                   4.6       1.14   \n",
       "4      Winterfell                      14                   4.4       1.19   \n",
       "\n",
       "     phone  surge_pct  ultimate_black_user  weekday_pct  avg_dist  \\\n",
       "0   iPhone       15.4                 True         46.2      3.67   \n",
       "1  Android        0.0                False         50.0      8.26   \n",
       "2   iPhone        0.0                False        100.0      0.77   \n",
       "3   iPhone       20.0                 True         80.0      2.36   \n",
       "4  Android       11.8                False         82.4      3.13   \n",
       "\n",
       "   avg_rating_by_driver  retained  \n",
       "0                   5.0      True  \n",
       "1                   5.0     False  \n",
       "2                   5.0     False  \n",
       "3                   4.9      True  \n",
       "4                   4.9     False  "
      ]
     },
     "execution_count": 135,
     "metadata": {},
     "output_type": "execute_result"
    }
   ],
   "source": [
    "X.head()"
   ]
  },
  {
   "cell_type": "code",
   "execution_count": 176,
   "id": "61c5d69d",
   "metadata": {},
   "outputs": [],
   "source": [
    "from sklearn.ensemble import RandomForestClassifier\n",
    "from sklearn.neighbors import KNeighborsClassifier\n",
    "from sklearn.model_selection import train_test_split \n",
    "from sklearn.metrics import confusion_matrix, classification_report"
   ]
  },
  {
   "cell_type": "code",
   "execution_count": 168,
   "id": "c10855a8",
   "metadata": {},
   "outputs": [
    {
     "name": "stdout",
     "output_type": "stream",
     "text": [
      "<class 'pandas.core.frame.DataFrame'>\n",
      "Int64Index: 49406 entries, 0 to 49999\n",
      "Data columns (total 11 columns):\n",
      " #   Column                  Non-Null Count  Dtype  \n",
      "---  ------                  --------------  -----  \n",
      " 0   city                    49406 non-null  object \n",
      " 1   trips_in_first_30_days  49406 non-null  int64  \n",
      " 2   avg_rating_of_driver    49406 non-null  float64\n",
      " 3   avg_surge               49406 non-null  float64\n",
      " 4   phone                   49406 non-null  object \n",
      " 5   surge_pct               49406 non-null  float64\n",
      " 6   ultimate_black_user     49406 non-null  bool   \n",
      " 7   weekday_pct             49406 non-null  float64\n",
      " 8   avg_dist                49406 non-null  float64\n",
      " 9   avg_rating_by_driver    49406 non-null  float64\n",
      " 10  retained                49406 non-null  bool   \n",
      "dtypes: bool(2), float64(6), int64(1), object(2)\n",
      "memory usage: 4.9+ MB\n"
     ]
    }
   ],
   "source": [
    "X.info()"
   ]
  },
  {
   "cell_type": "code",
   "execution_count": 169,
   "id": "a4ff19ee",
   "metadata": {},
   "outputs": [],
   "source": [
    "# column 'ultimate_black_user' and 'retained' are with type of boolean. So let's change it to integer\n",
    "X['ultimate_black_user'] = X['ultimate_black_user'].astype(int)"
   ]
  },
  {
   "cell_type": "code",
   "execution_count": 170,
   "id": "5b7980bc",
   "metadata": {},
   "outputs": [],
   "source": [
    "X['retained'] = X['retained'].astype(int)"
   ]
  },
  {
   "cell_type": "code",
   "execution_count": 171,
   "id": "712317b4",
   "metadata": {},
   "outputs": [
    {
     "data": {
      "text/html": [
       "<div>\n",
       "<style scoped>\n",
       "    .dataframe tbody tr th:only-of-type {\n",
       "        vertical-align: middle;\n",
       "    }\n",
       "\n",
       "    .dataframe tbody tr th {\n",
       "        vertical-align: top;\n",
       "    }\n",
       "\n",
       "    .dataframe thead th {\n",
       "        text-align: right;\n",
       "    }\n",
       "</style>\n",
       "<table border=\"1\" class=\"dataframe\">\n",
       "  <thead>\n",
       "    <tr style=\"text-align: right;\">\n",
       "      <th></th>\n",
       "      <th>city</th>\n",
       "      <th>trips_in_first_30_days</th>\n",
       "      <th>avg_rating_of_driver</th>\n",
       "      <th>avg_surge</th>\n",
       "      <th>phone</th>\n",
       "      <th>surge_pct</th>\n",
       "      <th>ultimate_black_user</th>\n",
       "      <th>weekday_pct</th>\n",
       "      <th>avg_dist</th>\n",
       "      <th>avg_rating_by_driver</th>\n",
       "      <th>retained</th>\n",
       "    </tr>\n",
       "  </thead>\n",
       "  <tbody>\n",
       "    <tr>\n",
       "      <th>0</th>\n",
       "      <td>King's Landing</td>\n",
       "      <td>4</td>\n",
       "      <td>4.7</td>\n",
       "      <td>1.10</td>\n",
       "      <td>iPhone</td>\n",
       "      <td>15.4</td>\n",
       "      <td>1</td>\n",
       "      <td>46.2</td>\n",
       "      <td>3.67</td>\n",
       "      <td>5.0</td>\n",
       "      <td>1</td>\n",
       "    </tr>\n",
       "    <tr>\n",
       "      <th>1</th>\n",
       "      <td>Astapor</td>\n",
       "      <td>0</td>\n",
       "      <td>5.0</td>\n",
       "      <td>1.00</td>\n",
       "      <td>Android</td>\n",
       "      <td>0.0</td>\n",
       "      <td>0</td>\n",
       "      <td>50.0</td>\n",
       "      <td>8.26</td>\n",
       "      <td>5.0</td>\n",
       "      <td>0</td>\n",
       "    </tr>\n",
       "    <tr>\n",
       "      <th>2</th>\n",
       "      <td>Astapor</td>\n",
       "      <td>3</td>\n",
       "      <td>4.3</td>\n",
       "      <td>1.00</td>\n",
       "      <td>iPhone</td>\n",
       "      <td>0.0</td>\n",
       "      <td>0</td>\n",
       "      <td>100.0</td>\n",
       "      <td>0.77</td>\n",
       "      <td>5.0</td>\n",
       "      <td>0</td>\n",
       "    </tr>\n",
       "    <tr>\n",
       "      <th>3</th>\n",
       "      <td>King's Landing</td>\n",
       "      <td>9</td>\n",
       "      <td>4.6</td>\n",
       "      <td>1.14</td>\n",
       "      <td>iPhone</td>\n",
       "      <td>20.0</td>\n",
       "      <td>1</td>\n",
       "      <td>80.0</td>\n",
       "      <td>2.36</td>\n",
       "      <td>4.9</td>\n",
       "      <td>1</td>\n",
       "    </tr>\n",
       "    <tr>\n",
       "      <th>4</th>\n",
       "      <td>Winterfell</td>\n",
       "      <td>14</td>\n",
       "      <td>4.4</td>\n",
       "      <td>1.19</td>\n",
       "      <td>Android</td>\n",
       "      <td>11.8</td>\n",
       "      <td>0</td>\n",
       "      <td>82.4</td>\n",
       "      <td>3.13</td>\n",
       "      <td>4.9</td>\n",
       "      <td>0</td>\n",
       "    </tr>\n",
       "  </tbody>\n",
       "</table>\n",
       "</div>"
      ],
      "text/plain": [
       "             city  trips_in_first_30_days  avg_rating_of_driver  avg_surge  \\\n",
       "0  King's Landing                       4                   4.7       1.10   \n",
       "1         Astapor                       0                   5.0       1.00   \n",
       "2         Astapor                       3                   4.3       1.00   \n",
       "3  King's Landing                       9                   4.6       1.14   \n",
       "4      Winterfell                      14                   4.4       1.19   \n",
       "\n",
       "     phone  surge_pct  ultimate_black_user  weekday_pct  avg_dist  \\\n",
       "0   iPhone       15.4                    1         46.2      3.67   \n",
       "1  Android        0.0                    0         50.0      8.26   \n",
       "2   iPhone        0.0                    0        100.0      0.77   \n",
       "3   iPhone       20.0                    1         80.0      2.36   \n",
       "4  Android       11.8                    0         82.4      3.13   \n",
       "\n",
       "   avg_rating_by_driver  retained  \n",
       "0                   5.0         1  \n",
       "1                   5.0         0  \n",
       "2                   5.0         0  \n",
       "3                   4.9         1  \n",
       "4                   4.9         0  "
      ]
     },
     "execution_count": 171,
     "metadata": {},
     "output_type": "execute_result"
    }
   ],
   "source": [
    "X.head()"
   ]
  },
  {
   "cell_type": "code",
   "execution_count": 140,
   "id": "ae99f15e",
   "metadata": {},
   "outputs": [],
   "source": [
    "# do the one hot encoding for predictor\n",
    "X = pd.get_dummies(X, drop_first = True)"
   ]
  },
  {
   "cell_type": "code",
   "execution_count": 141,
   "id": "bc550196",
   "metadata": {},
   "outputs": [
    {
     "data": {
      "text/html": [
       "<div>\n",
       "<style scoped>\n",
       "    .dataframe tbody tr th:only-of-type {\n",
       "        vertical-align: middle;\n",
       "    }\n",
       "\n",
       "    .dataframe tbody tr th {\n",
       "        vertical-align: top;\n",
       "    }\n",
       "\n",
       "    .dataframe thead th {\n",
       "        text-align: right;\n",
       "    }\n",
       "</style>\n",
       "<table border=\"1\" class=\"dataframe\">\n",
       "  <thead>\n",
       "    <tr style=\"text-align: right;\">\n",
       "      <th></th>\n",
       "      <th>trips_in_first_30_days</th>\n",
       "      <th>avg_rating_of_driver</th>\n",
       "      <th>avg_surge</th>\n",
       "      <th>surge_pct</th>\n",
       "      <th>ultimate_black_user</th>\n",
       "      <th>weekday_pct</th>\n",
       "      <th>avg_dist</th>\n",
       "      <th>avg_rating_by_driver</th>\n",
       "      <th>retained</th>\n",
       "      <th>city_King's Landing</th>\n",
       "      <th>city_Winterfell</th>\n",
       "      <th>phone_iPhone</th>\n",
       "    </tr>\n",
       "  </thead>\n",
       "  <tbody>\n",
       "    <tr>\n",
       "      <th>0</th>\n",
       "      <td>4</td>\n",
       "      <td>4.7</td>\n",
       "      <td>1.10</td>\n",
       "      <td>15.4</td>\n",
       "      <td>1</td>\n",
       "      <td>46.2</td>\n",
       "      <td>3.67</td>\n",
       "      <td>5.0</td>\n",
       "      <td>1</td>\n",
       "      <td>1</td>\n",
       "      <td>0</td>\n",
       "      <td>1</td>\n",
       "    </tr>\n",
       "    <tr>\n",
       "      <th>1</th>\n",
       "      <td>0</td>\n",
       "      <td>5.0</td>\n",
       "      <td>1.00</td>\n",
       "      <td>0.0</td>\n",
       "      <td>0</td>\n",
       "      <td>50.0</td>\n",
       "      <td>8.26</td>\n",
       "      <td>5.0</td>\n",
       "      <td>0</td>\n",
       "      <td>0</td>\n",
       "      <td>0</td>\n",
       "      <td>0</td>\n",
       "    </tr>\n",
       "    <tr>\n",
       "      <th>2</th>\n",
       "      <td>3</td>\n",
       "      <td>4.3</td>\n",
       "      <td>1.00</td>\n",
       "      <td>0.0</td>\n",
       "      <td>0</td>\n",
       "      <td>100.0</td>\n",
       "      <td>0.77</td>\n",
       "      <td>5.0</td>\n",
       "      <td>0</td>\n",
       "      <td>0</td>\n",
       "      <td>0</td>\n",
       "      <td>1</td>\n",
       "    </tr>\n",
       "    <tr>\n",
       "      <th>3</th>\n",
       "      <td>9</td>\n",
       "      <td>4.6</td>\n",
       "      <td>1.14</td>\n",
       "      <td>20.0</td>\n",
       "      <td>1</td>\n",
       "      <td>80.0</td>\n",
       "      <td>2.36</td>\n",
       "      <td>4.9</td>\n",
       "      <td>1</td>\n",
       "      <td>1</td>\n",
       "      <td>0</td>\n",
       "      <td>1</td>\n",
       "    </tr>\n",
       "    <tr>\n",
       "      <th>4</th>\n",
       "      <td>14</td>\n",
       "      <td>4.4</td>\n",
       "      <td>1.19</td>\n",
       "      <td>11.8</td>\n",
       "      <td>0</td>\n",
       "      <td>82.4</td>\n",
       "      <td>3.13</td>\n",
       "      <td>4.9</td>\n",
       "      <td>0</td>\n",
       "      <td>0</td>\n",
       "      <td>1</td>\n",
       "      <td>0</td>\n",
       "    </tr>\n",
       "  </tbody>\n",
       "</table>\n",
       "</div>"
      ],
      "text/plain": [
       "   trips_in_first_30_days  avg_rating_of_driver  avg_surge  surge_pct  \\\n",
       "0                       4                   4.7       1.10       15.4   \n",
       "1                       0                   5.0       1.00        0.0   \n",
       "2                       3                   4.3       1.00        0.0   \n",
       "3                       9                   4.6       1.14       20.0   \n",
       "4                      14                   4.4       1.19       11.8   \n",
       "\n",
       "   ultimate_black_user  weekday_pct  avg_dist  avg_rating_by_driver  retained  \\\n",
       "0                    1         46.2      3.67                   5.0         1   \n",
       "1                    0         50.0      8.26                   5.0         0   \n",
       "2                    0        100.0      0.77                   5.0         0   \n",
       "3                    1         80.0      2.36                   4.9         1   \n",
       "4                    0         82.4      3.13                   4.9         0   \n",
       "\n",
       "   city_King's Landing  city_Winterfell  phone_iPhone  \n",
       "0                    1                0             1  \n",
       "1                    0                0             0  \n",
       "2                    0                0             1  \n",
       "3                    1                0             1  \n",
       "4                    0                1             0  "
      ]
     },
     "execution_count": 141,
     "metadata": {},
     "output_type": "execute_result"
    }
   ],
   "source": [
    "X.head()"
   ]
  },
  {
   "cell_type": "code",
   "execution_count": 142,
   "id": "91ebd521",
   "metadata": {},
   "outputs": [
    {
     "name": "stdout",
     "output_type": "stream",
     "text": [
      "<class 'pandas.core.frame.DataFrame'>\n",
      "Int64Index: 49406 entries, 0 to 49999\n",
      "Data columns (total 12 columns):\n",
      " #   Column                  Non-Null Count  Dtype  \n",
      "---  ------                  --------------  -----  \n",
      " 0   trips_in_first_30_days  49406 non-null  int64  \n",
      " 1   avg_rating_of_driver    49406 non-null  float64\n",
      " 2   avg_surge               49406 non-null  float64\n",
      " 3   surge_pct               49406 non-null  float64\n",
      " 4   ultimate_black_user     49406 non-null  int32  \n",
      " 5   weekday_pct             49406 non-null  float64\n",
      " 6   avg_dist                49406 non-null  float64\n",
      " 7   avg_rating_by_driver    49406 non-null  float64\n",
      " 8   retained                49406 non-null  int32  \n",
      " 9   city_King's Landing     49406 non-null  uint8  \n",
      " 10  city_Winterfell         49406 non-null  uint8  \n",
      " 11  phone_iPhone            49406 non-null  uint8  \n",
      "dtypes: float64(6), int32(2), int64(1), uint8(3)\n",
      "memory usage: 3.5 MB\n"
     ]
    }
   ],
   "source": [
    "X.info()"
   ]
  },
  {
   "cell_type": "code",
   "execution_count": 143,
   "id": "50c69408",
   "metadata": {},
   "outputs": [],
   "source": [
    "# split the data into train and test.\n",
    "X_train, X_test, y_train, y_test = train_test_split(X, y, random_state = 101)"
   ]
  },
  {
   "cell_type": "code",
   "execution_count": 144,
   "id": "80d37615",
   "metadata": {},
   "outputs": [
    {
     "data": {
      "text/plain": [
       "RandomForestClassifier()"
      ]
     },
     "execution_count": 144,
     "metadata": {},
     "output_type": "execute_result"
    }
   ],
   "source": [
    "# create model and fit it with train data\n",
    "model = RandomForestClassifier()\n",
    "model.fit(X_train, y_train)"
   ]
  },
  {
   "cell_type": "code",
   "execution_count": 145,
   "id": "593507f2",
   "metadata": {},
   "outputs": [],
   "source": [
    "y_pred = model.predict(X_test)"
   ]
  },
  {
   "cell_type": "code",
   "execution_count": 146,
   "id": "3a95caec",
   "metadata": {},
   "outputs": [],
   "source": [
    "score = model.score(X_test, y_test)"
   ]
  },
  {
   "cell_type": "code",
   "execution_count": 147,
   "id": "bb40208b",
   "metadata": {},
   "outputs": [
    {
     "data": {
      "text/plain": [
       "0.8631800518134715"
      ]
     },
     "execution_count": 147,
     "metadata": {},
     "output_type": "execute_result"
    }
   ],
   "source": [
    "score"
   ]
  },
  {
   "cell_type": "code",
   "execution_count": 174,
   "id": "5a22e5c5",
   "metadata": {},
   "outputs": [
    {
     "data": {
      "text/plain": [
       "array([[8128, 1244],\n",
       "       [ 446, 2534]], dtype=int64)"
      ]
     },
     "execution_count": 174,
     "metadata": {},
     "output_type": "execute_result"
    }
   ],
   "source": [
    "confusion_matrix(y_test, y_pred)"
   ]
  },
  {
   "cell_type": "code",
   "execution_count": 178,
   "id": "992a5a6b",
   "metadata": {},
   "outputs": [
    {
     "name": "stdout",
     "output_type": "stream",
     "text": [
      "              precision    recall  f1-score   support\n",
      "\n",
      "       False      0.948     0.867     0.906      9372\n",
      "        True      0.671     0.850     0.750      2980\n",
      "\n",
      "    accuracy                          0.863     12352\n",
      "   macro avg      0.809     0.859     0.828     12352\n",
      "weighted avg      0.881     0.863     0.868     12352\n",
      "\n"
     ]
    }
   ],
   "source": [
    "print(classification_report(y_test, y_pred, digits=3))"
   ]
  },
  {
   "cell_type": "markdown",
   "id": "0086bf50",
   "metadata": {},
   "source": [
    "The results are satisfying. Of course we can use other model and compare the performances."
   ]
  },
  {
   "cell_type": "markdown",
   "id": "60f645a1",
   "metadata": {},
   "source": [
    "#### 3. Briefly discuss how Ultimate might leverage the insights gained from the model to improve its long term rider retention (again, a few sentences will suffice)"
   ]
  },
  {
   "cell_type": "markdown",
   "id": "8c13044b",
   "metadata": {},
   "source": [
    "let's calculate the statistic values of some columns when 'active_in_6th_month' is true and false. "
   ]
  },
  {
   "cell_type": "code",
   "execution_count": 150,
   "id": "c1026727",
   "metadata": {},
   "outputs": [
    {
     "data": {
      "text/plain": [
       "Index(['city', 'trips_in_first_30_days', 'signup_date', 'avg_rating_of_driver',\n",
       "       'avg_surge', 'last_trip_date', 'phone', 'surge_pct',\n",
       "       'ultimate_black_user', 'weekday_pct', 'avg_dist',\n",
       "       'avg_rating_by_driver', 'retained', 'active_in_6th_month'],\n",
       "      dtype='object')"
      ]
     },
     "execution_count": 150,
     "metadata": {},
     "output_type": "execute_result"
    }
   ],
   "source": [
    "df.columns"
   ]
  },
  {
   "cell_type": "code",
   "execution_count": 165,
   "id": "94210de2",
   "metadata": {},
   "outputs": [
    {
     "data": {
      "text/plain": [
       "active_in_6th_month\n",
       "False    1.841025\n",
       "True     3.651671\n",
       "Name: trips_in_first_30_days, dtype: float64"
      ]
     },
     "execution_count": 165,
     "metadata": {},
     "output_type": "execute_result"
    }
   ],
   "source": [
    "df.groupby('active_in_6th_month')['trips_in_first_30_days'].mean()"
   ]
  },
  {
   "cell_type": "markdown",
   "id": "46f09757",
   "metadata": {},
   "source": [
    "We can see that for users who are active in the 6th month, the average trips in first month is 3.65; for users who are not active, the average trip is 1.84, much smaller than those who are active. Therefore we get conclusion that in order to increase the rider retention rate, we must try to make them active for the first month. For example, we can give special discount to new users for the first month when the sign up.   "
   ]
  }
 ],
 "metadata": {
  "kernelspec": {
   "display_name": "Python 3 (ipykernel)",
   "language": "python",
   "name": "python3"
  },
  "language_info": {
   "codemirror_mode": {
    "name": "ipython",
    "version": 3
   },
   "file_extension": ".py",
   "mimetype": "text/x-python",
   "name": "python",
   "nbconvert_exporter": "python",
   "pygments_lexer": "ipython3",
   "version": "3.9.7"
  }
 },
 "nbformat": 4,
 "nbformat_minor": 5
}
